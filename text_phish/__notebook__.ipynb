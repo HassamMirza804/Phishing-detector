{
 "cells": [
  {
   "cell_type": "code",
   "execution_count": 1,
   "id": "5efa5433",
   "metadata": {
    "_cell_guid": "b1076dfc-b9ad-4769-8c92-a6c4dae69d19",
    "_uuid": "8f2839f25d086af736a60e9eeb907d3b93b6e0e5",
    "execution": {
     "iopub.execute_input": "2025-08-09T16:22:13.914573Z",
     "iopub.status.busy": "2025-08-09T16:22:13.914296Z",
     "iopub.status.idle": "2025-08-09T17:11:03.229491Z",
     "shell.execute_reply": "2025-08-09T17:11:03.228481Z"
    },
    "papermill": {
     "duration": 2929.32084,
     "end_time": "2025-08-09T17:11:03.231318",
     "exception": false,
     "start_time": "2025-08-09T16:22:13.910478",
     "status": "completed"
    },
    "tags": []
   },
   "outputs": [
    {
     "name": "stderr",
     "output_type": "stream",
     "text": [
      "2025-08-09 16:22:40.899354: E external/local_xla/xla/stream_executor/cuda/cuda_fft.cc:477] Unable to register cuFFT factory: Attempting to register factory for plugin cuFFT when one has already been registered\n",
      "WARNING: All log messages before absl::InitializeLog() is called are written to STDERR\n",
      "E0000 00:00:1754756561.255199      19 cuda_dnn.cc:8310] Unable to register cuDNN factory: Attempting to register factory for plugin cuDNN when one has already been registered\n",
      "E0000 00:00:1754756561.360135      19 cuda_blas.cc:1418] Unable to register cuBLAS factory: Attempting to register factory for plugin cuBLAS when one has already been registered\n"
     ]
    },
    {
     "name": "stdout",
     "output_type": "stream",
     "text": [
      "Starting data preparation and tokenization...\n"
     ]
    },
    {
     "data": {
      "application/vnd.jupyter.widget-view+json": {
       "model_id": "50450d74300447ce95cf8b7092c2eb85",
       "version_major": 2,
       "version_minor": 0
      },
      "text/plain": [
       "tokenizer_config.json:   0%|          | 0.00/48.0 [00:00<?, ?B/s]"
      ]
     },
     "metadata": {},
     "output_type": "display_data"
    },
    {
     "data": {
      "application/vnd.jupyter.widget-view+json": {
       "model_id": "4a9c4c5872784fe89be6d47fb0630020",
       "version_major": 2,
       "version_minor": 0
      },
      "text/plain": [
       "config.json:   0%|          | 0.00/570 [00:00<?, ?B/s]"
      ]
     },
     "metadata": {},
     "output_type": "display_data"
    },
    {
     "data": {
      "application/vnd.jupyter.widget-view+json": {
       "model_id": "f52d45e025484bcbb7082b01593dd8c2",
       "version_major": 2,
       "version_minor": 0
      },
      "text/plain": [
       "vocab.txt:   0%|          | 0.00/232k [00:00<?, ?B/s]"
      ]
     },
     "metadata": {},
     "output_type": "display_data"
    },
    {
     "data": {
      "application/vnd.jupyter.widget-view+json": {
       "model_id": "9776a771202c4e04b8fc40ca5cc33e15",
       "version_major": 2,
       "version_minor": 0
      },
      "text/plain": [
       "tokenizer.json:   0%|          | 0.00/466k [00:00<?, ?B/s]"
      ]
     },
     "metadata": {},
     "output_type": "display_data"
    },
    {
     "data": {
      "application/vnd.jupyter.widget-view+json": {
       "model_id": "8a6ac11ddc2b4d4a80ddd172e59db563",
       "version_major": 2,
       "version_minor": 0
      },
      "text/plain": [
       "Map:   0%|          | 0/18634 [00:00<?, ? examples/s]"
      ]
     },
     "metadata": {},
     "output_type": "display_data"
    },
    {
     "name": "stdout",
     "output_type": "stream",
     "text": [
      "Data preparation complete. Starting model training...\n"
     ]
    },
    {
     "data": {
      "application/vnd.jupyter.widget-view+json": {
       "model_id": "b3e1838c1a0546e4af1f6cd9937eef57",
       "version_major": 2,
       "version_minor": 0
      },
      "text/plain": [
       "model.safetensors:   0%|          | 0.00/440M [00:00<?, ?B/s]"
      ]
     },
     "metadata": {},
     "output_type": "display_data"
    },
    {
     "name": "stderr",
     "output_type": "stream",
     "text": [
      "Some weights of BertForSequenceClassification were not initialized from the model checkpoint at bert-base-uncased and are newly initialized: ['classifier.bias', 'classifier.weight']\n",
      "You should probably TRAIN this model on a down-stream task to be able to use it for predictions and inference.\n"
     ]
    },
    {
     "name": "stderr",
     "output_type": "stream",
     "text": [
      "/usr/local/lib/python3.11/dist-packages/torch/nn/parallel/_functions.py:70: UserWarning: Was asked to gather along dimension 0, but all input tensors were scalars; will instead unsqueeze and return a vector.\n",
      "  warnings.warn(\n"
     ]
    },
    {
     "data": {
      "text/html": [
       "\n",
       "    <div>\n",
       "      \n",
       "      <progress value='1398' max='1398' style='width:300px; height:20px; vertical-align: middle;'></progress>\n",
       "      [1398/1398 46:02, Epoch 3/3]\n",
       "    </div>\n",
       "    <table border=\"1\" class=\"dataframe\">\n",
       "  <thead>\n",
       " <tr style=\"text-align: left;\">\n",
       "      <th>Epoch</th>\n",
       "      <th>Training Loss</th>\n",
       "      <th>Validation Loss</th>\n",
       "      <th>Accuracy</th>\n",
       "      <th>Precision</th>\n",
       "      <th>Recall</th>\n",
       "      <th>F1</th>\n",
       "    </tr>\n",
       "  </thead>\n",
       "  <tbody>\n",
       "    <tr>\n",
       "      <td>1</td>\n",
       "      <td>No log</td>\n",
       "      <td>0.048220</td>\n",
       "      <td>0.981755</td>\n",
       "      <td>0.964865</td>\n",
       "      <td>0.988920</td>\n",
       "      <td>0.976744</td>\n",
       "    </tr>\n",
       "    <tr>\n",
       "      <td>2</td>\n",
       "      <td>0.120200</td>\n",
       "      <td>0.055921</td>\n",
       "      <td>0.982023</td>\n",
       "      <td>0.961771</td>\n",
       "      <td>0.993075</td>\n",
       "      <td>0.977172</td>\n",
       "    </tr>\n",
       "    <tr>\n",
       "      <td>3</td>\n",
       "      <td>0.036600</td>\n",
       "      <td>0.052471</td>\n",
       "      <td>0.983633</td>\n",
       "      <td>0.968814</td>\n",
       "      <td>0.989612</td>\n",
       "      <td>0.979102</td>\n",
       "    </tr>\n",
       "  </tbody>\n",
       "</table><p>"
      ],
      "text/plain": [
       "<IPython.core.display.HTML object>"
      ]
     },
     "metadata": {},
     "output_type": "display_data"
    },
    {
     "name": "stderr",
     "output_type": "stream",
     "text": [
      "/usr/local/lib/python3.11/dist-packages/torch/nn/parallel/_functions.py:70: UserWarning: Was asked to gather along dimension 0, but all input tensors were scalars; will instead unsqueeze and return a vector.\n",
      "  warnings.warn(\n"
     ]
    },
    {
     "name": "stderr",
     "output_type": "stream",
     "text": [
      "/usr/local/lib/python3.11/dist-packages/torch/nn/parallel/_functions.py:70: UserWarning: Was asked to gather along dimension 0, but all input tensors were scalars; will instead unsqueeze and return a vector.\n",
      "  warnings.warn(\n"
     ]
    },
    {
     "name": "stderr",
     "output_type": "stream",
     "text": [
      "/usr/local/lib/python3.11/dist-packages/torch/nn/parallel/_functions.py:70: UserWarning: Was asked to gather along dimension 0, but all input tensors were scalars; will instead unsqueeze and return a vector.\n",
      "  warnings.warn(\n"
     ]
    },
    {
     "data": {
      "text/html": [
       "\n",
       "    <div>\n",
       "      \n",
       "      <progress value='117' max='117' style='width:300px; height:20px; vertical-align: middle;'></progress>\n",
       "      [117/117 01:12]\n",
       "    </div>\n",
       "    "
      ],
      "text/plain": [
       "<IPython.core.display.HTML object>"
      ]
     },
     "metadata": {},
     "output_type": "display_data"
    },
    {
     "name": "stdout",
     "output_type": "stream",
     "text": [
      "{'eval_loss': 0.048219744116067886, 'eval_accuracy': 0.9817547625436007, 'eval_precision': 0.9648648648648649, 'eval_recall': 0.9889196675900277, 'eval_f1': 0.9767441860465117, 'eval_runtime': 73.4991, 'eval_samples_per_second': 50.708, 'eval_steps_per_second': 1.592, 'epoch': 3.0}\n",
      "Model training and evaluation complete.\n"
     ]
    }
   ],
   "source": [
    "import pandas as pd\n",
    "from datasets import Dataset\n",
    "from transformers import AutoTokenizer, AutoModelForSequenceClassification, Trainer, TrainingArguments\n",
    "import torch\n",
    "from sklearn.metrics import accuracy_score, precision_recall_fscore_support\n",
    "\n",
    "# --- Data Preparation and Tokenization (Part 1) ---\n",
    "print(\"Starting data preparation and tokenization...\")\n",
    "\n",
    "try:\n",
    "    df_text = pd.read_csv(\"/kaggle/input/text-phishing-dataset-csv/text_Phishing_dataset.csv\")\n",
    "except FileNotFoundError:\n",
    "    print(\"Error: The file 'phishing_email.csv' was not found. Please check the file path.\")\n",
    "    exit()\n",
    "\n",
    "if 'Unnamed: 0' in df_text.columns:\n",
    "    df_text = df_text.drop(columns=['Unnamed: 0'])\n",
    "\n",
    "df_text.rename(columns={'Email Text': 'text', 'Email Type': 'labels'}, inplace=True)\n",
    "df_text['labels'] = df_text['labels'].map({'Safe Email': 0, 'Phishing Email': 1})\n",
    "\n",
    "df_text.dropna(subset=['text'], inplace=True)\n",
    "df_text['text'] = df_text['text'].astype(str)\n",
    "\n",
    "dataset = Dataset.from_pandas(df_text)\n",
    "model_name = \"bert-base-uncased\"\n",
    "tokenizer = AutoTokenizer.from_pretrained(model_name)\n",
    "\n",
    "def tokenize_function(examples):\n",
    "    return tokenizer(examples['text'], padding=\"max_length\", truncation=True)\n",
    "\n",
    "tokenized_dataset = dataset.map(tokenize_function, batched=True)\n",
    "split_dataset = tokenized_dataset.train_test_split(test_size=0.2, seed=42)\n",
    "\n",
    "print(\"Data preparation complete. Starting model training...\")\n",
    "\n",
    "# --- Model Training and Evaluation (Part 2) ---\n",
    "train_dataset = split_dataset['train']\n",
    "eval_dataset = split_dataset['test']\n",
    "\n",
    "model = AutoModelForSequenceClassification.from_pretrained(\"bert-base-uncased\", num_labels=2)\n",
    "device = torch.device(\"cuda\" if torch.cuda.is_available() else \"cpu\")\n",
    "model.to(device)\n",
    "\n",
    "def compute_metrics(eval_pred):\n",
    "    logits, labels = eval_pred\n",
    "    predictions = torch.argmax(torch.tensor(logits), axis=1)\n",
    "    precision, recall, f1, _ = precision_recall_fscore_support(labels, predictions, average='binary')\n",
    "    acc = accuracy_score(labels, predictions)\n",
    "    return {'accuracy': acc, 'precision': precision, 'recall': recall, 'f1': f1}\n",
    "\n",
    "training_args = TrainingArguments(\n",
    "    output_dir=\"./results\",\n",
    "    eval_strategy=\"epoch\",\n",
    "    save_strategy=\"epoch\",\n",
    "    learning_rate=2e-5,\n",
    "    per_device_train_batch_size=16,\n",
    "    per_device_eval_batch_size=16,\n",
    "    num_train_epochs=3,\n",
    "    weight_decay=0.01,\n",
    "    load_best_model_at_end=True,\n",
    "    report_to=\"none\",\n",
    ")\n",
    "\n",
    "trainer = Trainer(\n",
    "    model=model,\n",
    "    args=training_args,\n",
    "    train_dataset=train_dataset,\n",
    "    eval_dataset=eval_dataset,\n",
    "    compute_metrics=compute_metrics,\n",
    ")\n",
    "\n",
    "trainer.train()\n",
    "\n",
    "eval_results = trainer.evaluate()\n",
    "print(eval_results)\n",
    "print(\"Model training and evaluation complete.\")"
   ]
  },
  {
   "cell_type": "code",
   "execution_count": 2,
   "id": "159bc7de",
   "metadata": {
    "execution": {
     "iopub.execute_input": "2025-08-09T17:11:03.243437Z",
     "iopub.status.busy": "2025-08-09T17:11:03.242733Z",
     "iopub.status.idle": "2025-08-09T17:11:04.110014Z",
     "shell.execute_reply": "2025-08-09T17:11:04.109162Z"
    },
    "papermill": {
     "duration": 0.875094,
     "end_time": "2025-08-09T17:11:04.111835",
     "exception": false,
     "start_time": "2025-08-09T17:11:03.236741",
     "status": "completed"
    },
    "tags": []
   },
   "outputs": [],
   "source": [
    "trainer.save_model(\"my_phishing_detector\")"
   ]
  },
  {
   "cell_type": "code",
   "execution_count": 3,
   "id": "830a17b7",
   "metadata": {
    "execution": {
     "iopub.execute_input": "2025-08-09T17:11:04.123196Z",
     "iopub.status.busy": "2025-08-09T17:11:04.122969Z",
     "iopub.status.idle": "2025-08-09T17:11:04.342196Z",
     "shell.execute_reply": "2025-08-09T17:11:04.341103Z"
    },
    "papermill": {
     "duration": 0.226129,
     "end_time": "2025-08-09T17:11:04.343466",
     "exception": false,
     "start_time": "2025-08-09T17:11:04.117337",
     "status": "completed"
    },
    "tags": []
   },
   "outputs": [
    {
     "name": "stdout",
     "output_type": "stream",
     "text": [
      "config.json  model.safetensors\ttraining_args.bin\r\n"
     ]
    },
    {
     "name": "stderr",
     "output_type": "stream",
     "text": [
      "huggingface/tokenizers: The current process just got forked, after parallelism has already been used. Disabling parallelism to avoid deadlocks...\n",
      "To disable this warning, you can either:\n",
      "\t- Avoid using `tokenizers` before the fork if possible\n",
      "\t- Explicitly set the environment variable TOKENIZERS_PARALLELISM=(true | false)\n"
     ]
    }
   ],
   "source": [
    "!ls /kaggle/working/my_phishing_detector"
   ]
  },
  {
   "cell_type": "code",
   "execution_count": 4,
   "id": "87d715c3",
   "metadata": {
    "execution": {
     "iopub.execute_input": "2025-08-09T17:11:04.351939Z",
     "iopub.status.busy": "2025-08-09T17:11:04.351109Z",
     "iopub.status.idle": "2025-08-09T17:11:05.748632Z",
     "shell.execute_reply": "2025-08-09T17:11:05.747943Z"
    },
    "papermill": {
     "duration": 1.403021,
     "end_time": "2025-08-09T17:11:05.749773",
     "exception": false,
     "start_time": "2025-08-09T17:11:04.346752",
     "status": "completed"
    },
    "tags": []
   },
   "outputs": [
    {
     "data": {
      "text/plain": [
       "('./my_phishing_detector/tokenizer_config.json',\n",
       " './my_phishing_detector/special_tokens_map.json',\n",
       " './my_phishing_detector/vocab.txt',\n",
       " './my_phishing_detector/added_tokens.json',\n",
       " './my_phishing_detector/tokenizer.json')"
      ]
     },
     "execution_count": 4,
     "metadata": {},
     "output_type": "execute_result"
    }
   ],
   "source": [
    "# After trainer.train() and trainer.evaluate() have completed\n",
    "# This saves the model weights and config\n",
    "trainer.save_model(\"./my_phishing_detector\")\n",
    "\n",
    "# This is the new, crucial step: save the tokenizer\n",
    "# The 'tokenizer' variable was defined earlier when you loaded it from 'bert-base-uncased'\n",
    "tokenizer.save_pretrained(\"./my_phishing_detector\")"
   ]
  },
  {
   "cell_type": "code",
   "execution_count": 5,
   "id": "ea80a74c",
   "metadata": {
    "execution": {
     "iopub.execute_input": "2025-08-09T17:11:05.757354Z",
     "iopub.status.busy": "2025-08-09T17:11:05.756754Z",
     "iopub.status.idle": "2025-08-09T17:11:06.474680Z",
     "shell.execute_reply": "2025-08-09T17:11:06.473795Z"
    },
    "papermill": {
     "duration": 0.722758,
     "end_time": "2025-08-09T17:11:06.475797",
     "exception": false,
     "start_time": "2025-08-09T17:11:05.753039",
     "status": "completed"
    },
    "tags": []
   },
   "outputs": [
    {
     "name": "stderr",
     "output_type": "stream",
     "text": [
      "Device set to use cuda:0\n"
     ]
    },
    {
     "name": "stdout",
     "output_type": "stream",
     "text": [
      "Suspicious email result: [{'label': 'LABEL_1', 'score': 0.9948375821113586}]\n",
      "Safe email result: [{'label': 'LABEL_0', 'score': 0.9964616894721985}]\n"
     ]
    }
   ],
   "source": [
    "from transformers import pipeline\n",
    "\n",
    "# Load the pipeline from the directory where you saved both the model and tokenizer\n",
    "classifier = pipeline(\"text-classification\", model=\"./my_phishing_detector\")\n",
    "\n",
    "# Example 1: A suspicious email\n",
    "suspicious_email = \"Click here to update your password. Your account has been suspended.\"\n",
    "result_suspicious = classifier(suspicious_email)\n",
    "print(\"Suspicious email result:\", result_suspicious)\n",
    "\n",
    "# Example 2: A safe email\n",
    "safe_email = \"Hello, I wanted to confirm our meeting for tomorrow. See you then.\"\n",
    "result_safe = classifier(safe_email)\n",
    "print(\"Safe email result:\", result_safe)"
   ]
  },
  {
   "cell_type": "code",
   "execution_count": 6,
   "id": "b80cf4ea",
   "metadata": {
    "execution": {
     "iopub.execute_input": "2025-08-09T17:11:06.483629Z",
     "iopub.status.busy": "2025-08-09T17:11:06.483391Z",
     "iopub.status.idle": "2025-08-09T17:11:06.793200Z",
     "shell.execute_reply": "2025-08-09T17:11:06.792337Z"
    },
    "papermill": {
     "duration": 0.314761,
     "end_time": "2025-08-09T17:11:06.794341",
     "exception": false,
     "start_time": "2025-08-09T17:11:06.479580",
     "status": "completed"
    },
    "tags": []
   },
   "outputs": [
    {
     "name": "stderr",
     "output_type": "stream",
     "text": [
      "Device set to use cuda:0\n"
     ]
    },
    {
     "name": "stdout",
     "output_type": "stream",
     "text": [
      "--- Overall Prediction Summary ---\n",
      "Total Emails Tested: 1\n",
      "Emails Classified as Phishing: 1 (100.0%)\n",
      "----------------------------------\n"
     ]
    }
   ],
   "source": [
    "from transformers import pipeline\n",
    "\n",
    "# This loads your trained model and tokenizer from the directory\n",
    "classifier = pipeline(\"text-classification\", model=\"./my_phishing_detector\")\n",
    "\n",
    "# Create a list of emails to test\n",
    "emails_to_test = [\n",
    "    \"You have won a free iPhone! Click this link to claim your prize.\",\n",
    "   \n",
    "]\n",
    "\n",
    "# Run the predictions on the entire list at once\n",
    "predictions = classifier(emails_to_test)\n",
    "\n",
    "# Map the raw labels to single words\n",
    "label_mapping = {'LABEL_0': 'Safe', 'LABEL_1': 'Phishing'}\n",
    "\n",
    "# Create a list of just the predicted labels\n",
    "predicted_labels = [label_mapping[p['label']] for p in predictions]\n",
    "\n",
    "# Count the occurrences of each label\n",
    "phishing_count = predicted_labels.count('Phishing')\n",
    "safe_count = predicted_labels.count('Safe')\n",
    "\n",
    "# Calculate the total number of emails\n",
    "total_emails = len(emails_to_test)\n",
    "\n",
    "# Print a single, overall prediction summary\n",
    "print(\"--- Overall Prediction Summary ---\")\n",
    "print(f\"Total Emails Tested: {total_emails}\")\n",
    "print(f\"Emails Classified as Phishing: {phishing_count} ({phishing_count/total_emails:.1%})\")\n",
    "\n",
    "print(\"----------------------------------\")"
   ]
  },
  {
   "cell_type": "code",
   "execution_count": 7,
   "id": "ec8b1b53",
   "metadata": {
    "execution": {
     "iopub.execute_input": "2025-08-09T17:11:06.801530Z",
     "iopub.status.busy": "2025-08-09T17:11:06.801314Z",
     "iopub.status.idle": "2025-08-09T17:11:06.805699Z",
     "shell.execute_reply": "2025-08-09T17:11:06.804978Z"
    },
    "papermill": {
     "duration": 0.009142,
     "end_time": "2025-08-09T17:11:06.806739",
     "exception": false,
     "start_time": "2025-08-09T17:11:06.797597",
     "status": "completed"
    },
    "tags": []
   },
   "outputs": [
    {
     "name": "stdout",
     "output_type": "stream",
     "text": [
      "['my_phishing_detector', '__notebook__.ipynb', 'results']\n"
     ]
    }
   ],
   "source": [
    "import os\n",
    "print(os.listdir('/kaggle/working/'))"
   ]
  },
  {
   "cell_type": "code",
   "execution_count": null,
   "id": "129a1958",
   "metadata": {
    "execution": {
     "iopub.execute_input": "2025-08-09T15:57:05.075261Z",
     "iopub.status.busy": "2025-08-09T15:57:05.074778Z",
     "iopub.status.idle": "2025-08-09T16:00:53.823315Z",
     "shell.execute_reply": "2025-08-09T16:00:53.822560Z",
     "shell.execute_reply.started": "2025-08-09T15:57:05.075233Z"
    },
    "papermill": {
     "duration": null,
     "end_time": null,
     "exception": false,
     "start_time": "2025-08-09T17:11:06.809888",
     "status": "running"
    },
    "tags": []
   },
   "outputs": [],
   "source": [
    "import os\n",
    "os.chdir('/kaggle/working/')\n",
    "!zip -r all_output.zip ."
   ]
  }
 ],
 "metadata": {
  "kaggle": {
   "accelerator": "nvidiaTeslaT4",
   "dataSources": [
    {
     "datasetId": 8027368,
     "sourceId": 12701713,
     "sourceType": "datasetVersion"
    }
   ],
   "dockerImageVersionId": 31090,
   "isGpuEnabled": true,
   "isInternetEnabled": true,
   "language": "python",
   "sourceType": "notebook"
  },
  "kernelspec": {
   "display_name": "Python 3",
   "language": "python",
   "name": "python3"
  },
  "language_info": {
   "codemirror_mode": {
    "name": "ipython",
    "version": 3
   },
   "file_extension": ".py",
   "mimetype": "text/x-python",
   "name": "python",
   "nbconvert_exporter": "python",
   "pygments_lexer": "ipython3",
   "version": "3.11.13"
  },
  "papermill": {
   "default_parameters": {},
   "duration": null,
   "end_time": null,
   "environment_variables": {},
   "exception": null,
   "input_path": "__notebook__.ipynb",
   "output_path": "__notebook__.ipynb",
   "parameters": {},
   "start_time": "2025-08-09T16:22:08.076045",
   "version": "2.6.0"
  }
 },
 "nbformat": 4,
 "nbformat_minor": 5
}